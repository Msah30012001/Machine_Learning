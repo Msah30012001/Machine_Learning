{
  "nbformat": 4,
  "nbformat_minor": 0,
  "metadata": {
    "colab": {
      "name": "Untitled0.ipynb",
      "provenance": [],
      "authorship_tag": "ABX9TyMzYVG4redqYDDV4F6UjOMH",
      "include_colab_link": true
    },
    "kernelspec": {
      "name": "python3",
      "display_name": "Python 3"
    },
    "language_info": {
      "name": "python"
    }
  },
  "cells": [
    {
      "cell_type": "markdown",
      "metadata": {
        "id": "view-in-github",
        "colab_type": "text"
      },
      "source": [
        "<a href=\"https://colab.research.google.com/github/Msah30012001/Machine_Learning/blob/master/manishshambhoosah.ipynb\" target=\"_parent\"><img src=\"https://colab.research.google.com/assets/colab-badge.svg\" alt=\"Open In Colab\"/></a>"
      ]
    },
    {
      "cell_type": "code",
      "execution_count": 33,
      "metadata": {
        "colab": {
          "base_uri": "https://localhost:8080/"
        },
        "id": "at0Qy6SPHkLE",
        "outputId": "65d9a053-868c-4082-b446-0ffa8ce14300"
      },
      "outputs": [
        {
          "output_type": "stream",
          "name": "stdout",
          "text": [
            "Enter 10 ip address\n",
            "Enter Ip address192.168.0.1\n",
            "Enter Ip address192.168.0.2\n",
            "Enter Ip address192.168.0.3\n",
            "Enter Ip address192.168.0.4\n",
            "Enter Ip address192.168.0.5\n",
            "Enter Ip address192.168.0.6\n",
            "Enter Ip address192.168.0.7\n",
            "Enter Ip address192.168.0.8\n",
            "Enter Ip address192.168.0.9\n",
            "Enter Ip address192.168.0.10\n",
            "The first ip address in Decimal,Binary,Octal and hexadecimal format is 192.168.0.1,11000000.10101000.00000000.00000001,0300.0250.0000.0001,c0.a8.00.01\n",
            "\n",
            "The second ip address in Decimal,Binary,Octal and hexadecimal format is 192.168.0.2,11000000.10101000.00000000.00000010,0300.0250.0000.0002,c0.a8.00.02\n",
            "\n",
            "The third ip address in Decimal,Binary,Octal and hexadecimal format is 192.168.0.3,11000000.10101000.00000000.00000011,0300.0250.0000.0003,c0.a8.00.03\n",
            "\n",
            "The fourth ip address in Decimal,Binary,Octal and hexadecimal format is 192.168.0.4,11000000.10101000.00000000.00000100,0300.0250.0000.0004,c0.a8.00.04\n",
            "\n",
            "The fifth ip address in Decimal,Binary,Octal and hexadecimal format is 192.168.0.5,11000000.10101000.00000000.00000101,0300.0250.0000.0005,c0.a8.00.05\n",
            "\n",
            "The sixth ip address in Decimal,Binary,Octal and hexadecimal format is 192.168.0.6,11000000.10101000.00000000.00000110,0300.0250.0000.0006,c0.a8.00.06\n",
            "\n",
            "The seventh ip address in Decimal,Binary,Octal and hexadecimal format is 192.168.0.7,11000000.10101000.00000000.00000111,0300.0250.0000.0007,c0.a8.00.07\n",
            "\n",
            "The eighth ip address in Decimal,Binary,Octal and hexadecimal format is 192.168.0.8,11000000.10101000.00000000.00001000,0300.0250.0000.0010,c0.a8.00.08\n",
            "\n",
            "The ninth ip address in Decimal,Binary,Octal and hexadecimal format is 192.168.0.9,11000000.10101000.00000000.00001001,0300.0250.0000.0011,c0.a8.00.09\n",
            "\n",
            "The tenth ip address in Decimal,Binary,Octal and hexadecimal format is 192.168.0.10,11000000.10101000.00000000.00001010,0300.0250.0000.0012,c0.a8.00.0a\n",
            "\n"
          ]
        }
      ],
      "source": [
        " \n",
        "# re module provides support\n",
        "# for regular expressions\n",
        "import re\n",
        "import socket, struct\n",
        "# Make a regular expression\n",
        "# for validating an Ip-address\n",
        "regex = \"^((25[0-5]|2[0-4][0-9]|1[0-9][0-9]|[1-9]?[0-9])\\.){3}(25[0-5]|2[0-4][0-9]|1[0-9][0-9]|[1-9]?[0-9])$\"\n",
        " \n",
        " \n",
        "     \n",
        "# Define a function for\n",
        "# validate an Ip address\n",
        "def check(Ip):\n",
        "    # pass the regular expression\n",
        "    # and the string in search() method\n",
        "    if(re.search(regex, Ip)):\n",
        "        return True\n",
        "         \n",
        "    else:\n",
        "        return False\n",
        "\n",
        "# Convert IP to bin\n",
        "def ip2bin(ip):\n",
        "    ip1 = '.'.join([bin(int(x)+256)[3:] for x in ip.split('.')])\n",
        "    return ip1\n",
        "\n",
        "# Convert IP to hex\n",
        "def ip2hex(ip):\n",
        "    ip1 = '.'.join([hex(int(x)+256)[3:] for x in ip.split('.')])\n",
        "    return ip1\n",
        "#  Convert IP to oct\n",
        "def ip2oct(ip):\n",
        "    ip1 = '.'.join(format(int(x), '04o') for x in ip.split('.'))\n",
        "    return ip1\n",
        "\n",
        " \n",
        "# Driver Code\n",
        "if __name__ == '__main__' :\n",
        "\n",
        "    print(\"Enter 10 ip address\")\n",
        "    # clear the conversion text file\n",
        "    f = open('conversion.txt','w')\n",
        "    f.close()\n",
        "    # empty list for collecting a different form ip address\n",
        "    differentFormIpRepresentationList = []\n",
        "    count = 10\n",
        "    while(count):\n",
        "      count = count - 1\n",
        "      ip = input(\"Enter Ip address\")\n",
        "      if(check(ip)):\n",
        "          differentFormIpRepresentationList.append(ip)\n",
        "          differentFormIpRepresentationList.append(ip2bin(ip))\n",
        "          differentFormIpRepresentationList.append(ip2oct(ip))\n",
        "          differentFormIpRepresentationList.append(ip2hex(ip))\n",
        "          with open(\"conversion.txt\", \"a\") as myFile:\n",
        "              myFile.write(str(differentFormIpRepresentationList[0])+','+str(differentFormIpRepresentationList[1])+','+str(differentFormIpRepresentationList[2])+','+str(differentFormIpRepresentationList[3]))\n",
        "              myFile.write('\\n')\n",
        "          differentFormIpRepresentationList.clear()\n",
        "      else :\n",
        "          print('Please Enter valid ip address')\n",
        "          count = count + 1\n",
        "    number = ['first','second','third','fourth','fifth','sixth','seventh','eighth','ninth','tenth']\n",
        "    with open('/content/conversion.txt','r') as f:\n",
        "        contents = f.readlines()\n",
        "    count = 0\n",
        "    for line in contents:\n",
        "        print(f'The {number[count]} ip address in Decimal,Binary,Octal and hexadecimal format is {line}')    \n",
        "        count += 1"
      ]
    }
  ]
}